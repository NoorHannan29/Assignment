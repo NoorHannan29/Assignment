{
  "cells": [
    {
      "cell_type": "markdown",
      "metadata": {
        "id": "l9_YAf10KYtU"
      },
      "source": [
        "# Machine Learning Lab Enhancement\n",
        "## Lab01 - Keras with MNIST\n",
        "### Lab enhancement made by: **Wan Muhammad Atif bin Taram Satiraksa (1211103154)**\n",
        "### Objectives:\n",
        "1. Explain what is Neural Networks using easy to understand real world examples.\n",
        "2. Demonstrate how to build simple Neural Networks using Keras and the MNIST dataset."
      ]
    },
    {
      "cell_type": "markdown",
      "metadata": {
        "id": "Uhw-AzjhLjIE"
      },
      "source": [
        "# **Neural Networks**\n",
        "A Neural Network is a computational model that was inspired by biological neural networks and its way of processing information in the human brain. It is a subset of Machine Learning and Articial Intelligence, primarily used for tasks such as image recognition, speech recognition, and decision-making.\n",
        "\n",
        "Key components of a Neural Network include:\n",
        "1. **Nodes or Neurons**\n",
        "  * The basic unit of a neural network, a node is the equivalent of a neuron in the brain.\n",
        "  * Each node receives input, processes them, and passes the result to the next layer of neurons.\n",
        "  * A node may also consists of:\n",
        "    1. Weights\n",
        "      - Determine the importance of each input in making predictions, adjusted during training to improve accuracy.\n",
        "    2. Bias\n",
        "      - A value added to the weighted sum of inputs to help the network adjust its output and better fit the data by shifting the activation function.\n",
        "    3. Activation function\n",
        "      - Decides where a neuron's output should proceed to the next layer, enabling the network to learn complex, non-linear patterns.\n",
        "\n",
        "2. **Layers**\n",
        "  *   A neural network consist of layers, where each layer houses a varying number of nodes.\n",
        "  * There are 3 types of layers:\n",
        "    1. **Input layer**\n",
        "    \n",
        "        * The first layer that **receives inputs**.\n",
        "        * This layer does not process any information but passes the values of its nodes to the next layer.\n",
        "\n",
        "    2. **Hidden Layers**\n",
        "        * Layers between the input and the output layers where the majority of the processing occurs.\n",
        "        * The number of hidden layers differs for each neural network and neural networks with multiple hidden layers are called **Deep Neural Network (DNN).**\n",
        "\n",
        "    3. **Output Layer**\n",
        "        * The final layer that **receives and provide the output** through suitable methods.\n",
        "\n",
        "\n",
        "3. **Connections**\n",
        "  * Nodes in one layer are inherently connected to neurons in the next layer via edges or weights (does not apply for Output Layer).\n",
        "  * Each connection has a weight that controls the strength of the signal between neurons.\n",
        "\n"
      ]
    },
    {
      "cell_type": "markdown",
      "metadata": {
        "id": "kLaZYKvlS1fY"
      },
      "source": [
        "# **What is Keras?**\n",
        "Keras is an open source software library that provides easy to use interface for building and training neural networks. It is written in Python, acting as a high level API for creating and experimenting with deep learning models. It is a beginner friendly software, perfect for first time learners in Machine Learning."
      ]
    },
    {
      "cell_type": "markdown",
      "metadata": {
        "id": "EdTXL9z8W7oA"
      },
      "source": [
        "# **Example through Analogy**"
      ]
    },
    {
      "cell_type": "markdown",
      "metadata": {
        "id": "ndH4DXwd_XmC"
      },
      "source": [
        "We can use Keras with MNIST to demonstrate how neural networks work with a real life analogy.\n",
        "Let's assume you're an experienced baker trying to make a cake (prediction) from his forgotten childhood memory based on grandma's recipe (data inputs) that **did not specify the name of the cake nor the proportions of its ingredients.**\n",
        "\n",
        "## 1. Input Layer\n",
        "* The ingredients such as **flour, eggs, and sugar** represent the input data which are the** pixel value of the image of the number**.\n",
        "\n",
        "## 2. Weights\n",
        "* Initially, you randomly guess how much of each ingredient is needed. Maybe the first try, you try a mix of 2 cups of flour, 1 cup of sugar and 4 eggs.\n",
        "* During training of the model, these proportions, called weights are adjusted based on your memory of the taste of the cake (minimizing error).\n",
        "\n",
        "## 3. Bias\n",
        "* The oven temperature or baking time can affect the outcome regardless of the ingredients.\n",
        "* For example, even if combination of adjusted ingredients (weight) are perfect, setting the oven temperature (bias) higher or lower can completely change the cake's final look.\n",
        "* In this, bias helps shift the weighted combination of inputs, allowing the model to fit the data more accurately.\n",
        "\n",
        "## 4. Activation Function\n",
        "* After baking, you check the cake via poking it with a chopstick in the middle to test if its properly cooked or if it needs more adjustment.\n",
        "* Activation function works as a test to see whether the output can be passed on or not.\n",
        "\n",
        "##5. Output Layer\n",
        "* Once the cake is ready and its taste evaluated, the baker can identify what type of cake it is (Vanilla, Chocolate, etc).\n",
        "* This is reflected in the neural network as it classifying the input (image) into one of several possible categories (digits 0-9 for MNIST)"
      ]
    },
    {
      "cell_type": "markdown",
      "metadata": {
        "id": "NXhmjsJtU3B3"
      },
      "source": [
        "# Import necessary libraries"
      ]
    },
    {
      "cell_type": "code",
      "execution_count": 7,
      "metadata": {
        "id": "MsRKjxyzUtf0"
      },
      "outputs": [],
      "source": [
        "from keras import models, layers\n",
        "from keras.datasets import mnist\n",
        "from keras.utils import to_categorical\n",
        "from keras.optimizers import Adam\n",
        "\n",
        "import matplotlib.pyplot as plt\n",
        "import numpy as np"
      ]
    },
    {
      "cell_type": "markdown",
      "metadata": {
        "id": "rmC5uRLEU8H8"
      },
      "source": [
        "# Step 1: Load the MNIST dataset\n",
        "In this step we load the MNIST dataset (the possible cake names)."
      ]
    },
    {
      "cell_type": "code",
      "execution_count": 8,
      "metadata": {
        "id": "ksSBoifVVDP6"
      },
      "outputs": [],
      "source": [
        "(X_train, y_train), (X_test, y_test) = mnist.load_data()"
      ]
    },
    {
      "cell_type": "markdown",
      "metadata": {
        "id": "GZEISIn-VC6N"
      },
      "source": [
        "# Step 2: Normalize the pixel values to the range [0, 1]\n",
        "We ensure that all pixel values (ingredients) are normalized between 0 to 1 for easier processing. This is similar to adjusting the ingredients to it's appropriate measuring metric (cups, teaspoons, etc)."
      ]
    },
    {
      "cell_type": "code",
      "execution_count": 9,
      "metadata": {
        "id": "32sdvX4_VrTc"
      },
      "outputs": [],
      "source": [
        "X_train, X_test = X_train / 255.0, X_test / 255.0"
      ]
    },
    {
      "cell_type": "markdown",
      "metadata": {
        "id": "s_ip_pdmV0uI"
      },
      "source": [
        "# Step 3: Build the neural network model\n",
        "The model will contain an Input and Output layer as well as a variable amount of Hidden Layers that is up to your decision. In this model, there are 128 nodes in the hidden layer an it's activation function is ReLU activation. The output layer contains 10 nodes to represent the digits 0-9.\n",
        "\n",
        "## Flatten? Dense? Dropout??\n",
        "There are called Keras layers command which are used to define the architecture of a neural network.\n",
        "\n",
        "In this example, 3 of the commands are used:\n",
        "1. Flatten\n",
        "  - Flatten converts 2D input data (in this case, an image with a 28x28 pixel) into a 1D vector.\n",
        "2. Dense\n",
        "  - Dense creates a fully connected layer where each node is connected to every node in the previous layer using the 1D vector outputted by Flatten.\n",
        "3. Dropout\n",
        "  - Dropout is used to prevent overfitting by randomly setting to zero a certain percentage of the nodes. 20% of the nodes are dropped in this example.\n",
        "  - This forces the model to not overly rely on any single node and helps generalize better to new data.\n",
        "\n",
        "There are many other Keras Layers command which can be found at the [Keras 3 API Documentation](https://keras.io/api/layers/)\n"
      ]
    },
    {
      "cell_type": "code",
      "execution_count": 10,
      "metadata": {
        "id": "BUqNlZjpV0AE"
      },
      "outputs": [],
      "source": [
        "model = models.Sequential([\n",
        "    layers.Flatten(input_shape=(28, 28)),  # Flatten 28x28 images into 1D vectors\n",
        "    layers.Dense(128, activation='relu'),  # Hidden layer with 128 neurons and ReLU activation\n",
        "    layers.Dropout(0.2),                   # Dropout layer for regularization (20% dropout rate)\n",
        "    layers.Dense(10, activation='softmax') # Output layer with 10 neurons (one for each digit 0-9)\n",
        "])"
      ]
    },
    {
      "cell_type": "markdown",
      "metadata": {
        "id": "gAKuMeuPiG69"
      },
      "source": [
        "## What about activation?\n",
        "That is the activation function. As mentioned before, it is a mathematical operation applied to the output of a node in a neural network to introduce non-linearity into the model that helps the neural networks to learn complex patterns in data.\n",
        "\n",
        "Examples of common activation functions:\n",
        "1. ReLU **(used in this example)**\n",
        "2. Softmax\n",
        "3. Sigmoid\n",
        "4. Tanh\n",
        "\n",
        "More activation functions and its description can be found at [Keras 3 API Documentation](https://keras.io/api/layers/activations/)"
      ]
    },
    {
      "cell_type": "markdown",
      "metadata": {
        "id": "deScfwMoWP4X"
      },
      "source": [
        "# Step 4: Compile the model\n",
        "This is where you finalize how to train your neural network. Pick an optimizer and a loss function to improve how well the cake turns out based on the recipe.\n",
        "\n",
        "## Optimizers, loss function, metrics?\n",
        "  1. Optimizers\n",
        "    - Method used to adjust the model's weights to minimize the loss function\n",
        "    - It is critical in training deep learning models as they help improve the model's ability to make predictions over time.\n",
        "    - Example of Optimizers\n",
        "      * [Adam](https://keras.io/api/optimizers/adam/) **(used in this example)**\n",
        "      * [SGD](https://keras.io/api/optimizers/sgd/)\n",
        "      * [RMSprop](https://keras.io/api/optimizers/rmsprop/)\n",
        "      * [Adagrad](https://keras.io/api/optimizers/adagrad/)\n",
        "  2. Loss function\n",
        "    - Measures how far the model's prediction are from the actual results.\n",
        "    - During model training, the objective is to minimze the loss function to improve the model's accuracy\n",
        "    - Example of Loss Function\n",
        "      * [Sparse Categorical Cross-Entropy](https://) **(used in this example)**\n",
        "      * [Categorical Cross-Entropy](https://)\n",
        "      * [Mean Squared Error](https://) (MSE)\n",
        "      * [Binary Cross-Entropy](https://)\n",
        "      \n",
        "  3. Metrics\n",
        "    - Used to monitor the performance of the model during training and testing.\n",
        "    - Provides a way to track how the model is performing on the task at hand.\n",
        "    - Examples of Metrics\n",
        "      * [Accuracy](https://keras.io/api/metrics/accuracy_metrics/#accuracy-class) **(used in this code)**\n",
        "      * [Precision](https://keras.io/api/metrics/classification_metrics/#precision-class)\n",
        "      * [Recall](https://keras.io/api/metrics/classification_metrics/#recall-class)\n",
        "      * [AUC (Area Under the Curve)](https://keras.io/api/metrics/classification_metrics/#auc-class)"
      ]
    },
    {
      "cell_type": "code",
      "execution_count": 11,
      "metadata": {
        "id": "J82RiyV0WUgo"
      },
      "outputs": [],
      "source": [
        "model.compile(optimizer= Adam(learning_rate = 0.001),\n",
        "              loss='sparse_categorical_crossentropy',\n",
        "              metrics=['accuracy'])"
      ]
    },
    {
      "cell_type": "markdown",
      "metadata": {
        "id": "0fKkMxhgWXMl"
      },
      "source": [
        "# Step 5: Train the model\n",
        "Now you start baking the cake (training the model). You follow the recipe and adjust the ingredients as needed in each step based on feedback from the previous attempts (training epochs). Each attempts helps you estimate the correct cake (predicting the correct digit). The accuracy of your estimates increases with more attempts done."
      ]
    },
    {
      "cell_type": "code",
      "execution_count": 12,
      "metadata": {
        "colab": {
          "base_uri": "https://localhost:8080/"
        },
        "id": "w3Tum0noWaJf",
        "outputId": "ca507542-efcd-4dfd-b2ea-a17501404b2b"
      },
      "outputs": [
        {
          "name": "stdout",
          "output_type": "stream",
          "text": [
            "Epoch 1/5\n",
            "\u001b[1m1875/1875\u001b[0m \u001b[32m━━━━━━━━━━━━━━━━━━━━\u001b[0m\u001b[37m\u001b[0m \u001b[1m10s\u001b[0m 4ms/step - accuracy: 0.8606 - loss: 0.4838\n",
            "Epoch 2/5\n",
            "\u001b[1m1875/1875\u001b[0m \u001b[32m━━━━━━━━━━━━━━━━━━━━\u001b[0m\u001b[37m\u001b[0m \u001b[1m11s\u001b[0m 5ms/step - accuracy: 0.9572 - loss: 0.1446\n",
            "Epoch 3/5\n",
            "\u001b[1m1875/1875\u001b[0m \u001b[32m━━━━━━━━━━━━━━━━━━━━\u001b[0m\u001b[37m\u001b[0m \u001b[1m8s\u001b[0m 4ms/step - accuracy: 0.9674 - loss: 0.1082\n",
            "Epoch 4/5\n",
            "\u001b[1m1875/1875\u001b[0m \u001b[32m━━━━━━━━━━━━━━━━━━━━\u001b[0m\u001b[37m\u001b[0m \u001b[1m9s\u001b[0m 4ms/step - accuracy: 0.9743 - loss: 0.0859\n",
            "Epoch 5/5\n",
            "\u001b[1m1875/1875\u001b[0m \u001b[32m━━━━━━━━━━━━━━━━━━━━\u001b[0m\u001b[37m\u001b[0m \u001b[1m10s\u001b[0m 4ms/step - accuracy: 0.9788 - loss: 0.0694\n"
          ]
        },
        {
          "data": {
            "text/plain": [
              "<keras.src.callbacks.history.History at 0x7ac66b426110>"
            ]
          },
          "execution_count": 12,
          "metadata": {},
          "output_type": "execute_result"
        }
      ],
      "source": [
        "model.fit(X_train, y_train, epochs=5)"
      ]
    },
    {
      "cell_type": "markdown",
      "metadata": {
        "id": "4oUUjG-MWdav"
      },
      "source": [
        "# Step 6: Evaluate the model on the test data\n",
        "After baking the cake, you do a final taste test (evaluation) which helps in determining how well your cake turned out by comparing it to what you expected (the actual labels in the test data). By testing the model on a test data it has never seen before, you're testing if the model holds true even when used outside its training environment."
      ]
    },
    {
      "cell_type": "code",
      "execution_count": 13,
      "metadata": {
        "colab": {
          "base_uri": "https://localhost:8080/"
        },
        "id": "xo2dS_iUWhLR",
        "outputId": "b6a6eca0-2593-4efd-a6e9-14ac8cb6c3ff"
      },
      "outputs": [
        {
          "name": "stdout",
          "output_type": "stream",
          "text": [
            "\u001b[1m313/313\u001b[0m \u001b[32m━━━━━━━━━━━━━━━━━━━━\u001b[0m\u001b[37m\u001b[0m \u001b[1m1s\u001b[0m 4ms/step - accuracy: 0.9714 - loss: 0.0873\n",
            "Test accuracy: 0.9765999913215637\n"
          ]
        }
      ],
      "source": [
        "test_loss, test_acc = model.evaluate(X_test, y_test)\n",
        "print(f\"Test accuracy: {test_acc}\")"
      ]
    },
    {
      "cell_type": "markdown",
      "metadata": {
        "id": "nrT7UT0IWjV3"
      },
      "source": [
        "# Step 7: Make predictions on the test set\n",
        "The chef now predicts what type of cake it is on the assumption that the cake isn't a new unique cake. This is reflected here be randomly choosing an image from the test set and testing it against the model."
      ]
    },
    {
      "cell_type": "code",
      "execution_count": 14,
      "metadata": {
        "colab": {
          "base_uri": "https://localhost:8080/"
        },
        "id": "ZhHSACYPWnN_",
        "outputId": "49c249cc-54ed-4d88-b3aa-ddc3af9453a9"
      },
      "outputs": [
        {
          "name": "stdout",
          "output_type": "stream",
          "text": [
            "\u001b[1m1/1\u001b[0m \u001b[32m━━━━━━━━━━━━━━━━━━━━\u001b[0m\u001b[37m\u001b[0m \u001b[1m0s\u001b[0m 121ms/step\n"
          ]
        }
      ],
      "source": [
        "random_index = np.random.randint(0, len(X_test))\n",
        "predicted_label = model.predict(X_test[random_index:random_index+1])\n",
        "predicted_digit = predicted_label.argmax()"
      ]
    },
    {
      "cell_type": "markdown",
      "metadata": {
        "id": "qH-fsZNrWo9V"
      },
      "source": [
        "# Step 8: Display a sample prediction\n"
      ]
    },
    {
      "cell_type": "code",
      "execution_count": 15,
      "metadata": {
        "colab": {
          "base_uri": "https://localhost:8080/",
          "height": 452
        },
        "id": "vPHpEmBVWolM",
        "outputId": "64139a7e-a4af-4c2d-b118-ec372e985662"
      },
      "outputs": [
        {
          "data": {
            "image/png": "[encoded data removed]",
            "text/plain": [
              "<Figure size 640x480 with 1 Axes>"
            ]
          },
          "metadata": {},
          "output_type": "display_data"
        }
      ],
      "source": [
        "plt.imshow(X_test[random_index], cmap=plt.cm.binary)\n",
        "plt.title(f\"Predicted Digit: {predicted_digit}\")\n",
        "plt.show()"
      ]
    },
    {
      "cell_type": "markdown",
      "metadata": {
        "id": "etbyF-n6SVqb"
      },
      "source": [
        "# Additional Exercises (Future Work)\n",
        "To further enhance understanding, consider the following exercises:\n",
        "\n",
        "1. Experiment with Different Architectures:\n",
        "\n",
        "    * Modify the number of hidden layers and neurons.\n",
        "\n",
        "    * Observe the impact on accuracy and training time.\n",
        "\n",
        "2. Try Different Activation Functions:\n",
        "\n",
        "    * Replace ReLU with Sigmoid or Tanh in the hidden layers.\n",
        "\n",
        "    * Compare performance differences in accuracy.\n",
        "\n",
        "3. Optimize Hyperparameters:\n",
        "\n",
        "    * Experiment with different optimizers (SGD, RMSprop, Adamax).\n",
        "\n",
        "    * Tune **learning rates** (eg., 0.01, 0.001, 0.0001), **batch sizes** (e.g., 32,64,128), and **dropout rates** (e.g., 0.2, 0.5) and find the optimal setting.\n",
        "4. Train on a Custom Dataset:\n",
        "\n",
        "    * Replace MNIST with Fashion-MNIST by replacing mnist.load_data() with fashion_mnist.load_data().\n",
        "\n",
        "\n"
      ]
    }
  ],
  "metadata": {
    "colab": {
      "provenance": [],
      "toc_visible": true
    },
    "kernelspec": {
      "display_name": "Python 3",
      "name": "python3"
    },
    "language_info": {
      "name": "python"
    }
  },
  "nbformat": 4,
  "nbformat_minor": 0
}
