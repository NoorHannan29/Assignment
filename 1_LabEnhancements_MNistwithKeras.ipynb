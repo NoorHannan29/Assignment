{
  "nbformat": 4,
  "nbformat_minor": 0,
  "metadata": {
    "colab": {
      "provenance": []
    },
    "kernelspec": {
      "name": "python3",
      "display_name": "Python 3"
    },
    "language_info": {
      "name": "python"
    }
  },
  "cells": [
    {
      "cell_type": "markdown",
      "source": [
        "# Machine Learning Lab Enhancement\n",
        "## Lab01 - Keras with MNIST\n",
        "### Lab enhancement made by: **Wan Muhammad Atif bin Taram Satiraksa (1211103154)**\n",
        "### Objectives:\n",
        "1. Explain what is Neural Networks using easy to understand real world examples.\n",
        "2. Demonstrate how to build simple Neural Networks using Keras and the MNIST dataset.\n",
        "3. Introduce students to the concept of Transfer Learning"
      ],
      "metadata": {
        "id": "l9_YAf10KYtU"
      }
    },
    {
      "cell_type": "markdown",
      "source": [
        "# **Neural Networks**\n",
        "A Neural Network is a computational model that was inspired by biological neural networks and its way of processing information in the human brain. It is a subset of Machine Learning and Articial Intelligence, primarily used for tasks such as image recognition, speech recognition, and decision-making.\n",
        "\n",
        "Key components of a Neural Network include:\n",
        "1. **Nodes or Neurons**\n",
        "  * The basic unit of a neural network, a node is the equivalent of a neuron in the brain.\n",
        "  * Each node receives input, processes them, and passes the result to the next layer of neurons.\n",
        "  * A node may also consists of:\n",
        "    1. Weights\n",
        "      - Determine the importance of each input in making predictions, adjusted during training to improve accuracy.\n",
        "    2. Bias\n",
        "      - A value added to the weighted sum of inputs to help the network adjust its output and better fit the data by shifting the activation function.\n",
        "    3. Activation function\n",
        "      - Decideds whetehr a neuron's output should proceed to the next layer, enabling the network to learn complex, non-linear patterns.\n",
        "\n",
        "2. **Layers**\n",
        "  *   A neural network consist of layers, where each layer houses a varying number of nodes.\n",
        "  * There are 3 types of layers:\n",
        "    1. **Input layer**\n",
        "    \n",
        "        * The first layer that **receives inputs**.\n",
        "        * This layer does not process any information but passes the values of its nodes to the next layer.\n",
        "\n",
        "    2. **Hidden Layers**\n",
        "        * Layers between the input and the output layers where the majority of the processing occurs.\n",
        "        * The number of hidden layers differs for each neural network and neural networks with multiple hidden layers are called **Deep Neural Network (DNN).**\n",
        "\n",
        "    3. **Output Layer**\n",
        "        * The final layer that **receives and provide the output** through suitable methods.\n",
        "\n",
        "\n",
        "3. **Connections**\n",
        "  * Nodes in one layer are inherently connected to neurons in the next layer via edges or weights (does not apply for Output Layer).\n",
        "  * Each connection has a weight that controls the strength of the signal between neurons.\n",
        "\n"
      ],
      "metadata": {
        "id": "Uhw-AzjhLjIE"
      }
    },
    {
      "cell_type": "markdown",
      "source": [
        "# **What is Keras?**\n",
        "Keras is an open source software library that provides easy to use interface for building and training neural networks. It is written in Python, acting as a high level API for creating and experimenting with deep learning models. It is a beginner friendly software, perfect for first time learners in Machine Learning."
      ],
      "metadata": {
        "id": "kLaZYKvlS1fY"
      }
    },
    {
      "cell_type": "markdown",
      "source": [
        "# **Example through Analogy**"
      ],
      "metadata": {
        "id": "EdTXL9z8W7oA"
      }
    },
    {
      "cell_type": "markdown",
      "source": [
        "We can use Keras with MNIST to demonstrate how neural networks work with a real life analogy.\n",
        "Let's assume you're an experienced baker trying to make a cake (prediction) from his forgotten childhood memory based on grandma's recipe (data inputs) that **did not specify the name of the cake nor the proportions of its ingredients.**\n",
        "\n",
        "## 1. Input Layer\n",
        "* The ingredients such as flour, eggs, and sugar represent the input data which are the pixel value of the image of the number.\n",
        "\n",
        "## 2. Weights\n",
        "* Initially, you randomly guess how much of each ingredient is needed. Maybe the first try, you try a mix of 2 cups of flour, 1 cup of sugar and 4 eggs.\n",
        "* During training of the model, these proportions, called weights are adjusted based on your memory of the taste of the cake (minimizing error).\n",
        "\n",
        "## 3. Bias\n",
        "* The oven temperature or baking time can affect the outcome regardless of the ingredients.\n",
        "* For example, even if combination of adjusted ingredients (weight) are perfect, setting the oven temperature (bias) higher or lower can completely change the cake's final look.\n",
        "* In this, bias helps shift the weighted combination of inputs, allowing the model to fit the data more accurately.\n",
        "\n",
        "## 4. Activation Function\n",
        "* After baking, you check the cake via poking it with a chopstick in the middle to test if its properly cooked or if it needs more adjustment.\n",
        "* Activation function works as a test to see whether the output can be passed on or not.\n",
        "\n",
        "##5. Output Layer\n",
        "* Once the cake is ready and its taste evaluated, the baker can identify what type of cake it is (Vanilla, Chocolate, etc).\n",
        "* This is reflected in the neural network as it classifying the input (image) into one of several possible categories (digits 0-9 for MNIST)"
      ],
      "metadata": {
        "id": "ndH4DXwd_XmC"
      }
    },
    {
      "cell_type": "markdown",
      "source": [
        "# Import necessary libraries"
      ],
      "metadata": {
        "id": "NXhmjsJtU3B3"
      }
    },
    {
      "cell_type": "code",
      "source": [
        "from keras import models, layers\n",
        "from keras.datasets import mnist\n",
        "from keras.utils import to_categorical\n",
        "import matplotlib.pyplot as plt\n",
        "import numpy as np"
      ],
      "metadata": {
        "id": "MsRKjxyzUtf0"
      },
      "execution_count": 10,
      "outputs": []
    },
    {
      "cell_type": "markdown",
      "source": [
        "# Step 1: Load the MNIST dataset\n",
        "In this step we load the MNIST dataset (the possible cake names)."
      ],
      "metadata": {
        "id": "rmC5uRLEU8H8"
      }
    },
    {
      "cell_type": "code",
      "source": [
        "(X_train, y_train), (X_test, y_test) = mnist.load_data()"
      ],
      "metadata": {
        "id": "ksSBoifVVDP6"
      },
      "execution_count": 11,
      "outputs": []
    },
    {
      "cell_type": "markdown",
      "source": [
        "# Step 2: Normalize the pixel values to the range [0, 1]\n",
        "We ensure that all pixel values (ingredients) are normalized between 0 to 1 for easier processing. This is similar to adjusting the ingredients to it's appropriate measuring metric (cups, teaspoons, etc)."
      ],
      "metadata": {
        "id": "GZEISIn-VC6N"
      }
    },
    {
      "cell_type": "code",
      "source": [
        "X_train, X_test = X_train / 255.0, X_test / 255.0"
      ],
      "metadata": {
        "id": "32sdvX4_VrTc"
      },
      "execution_count": 12,
      "outputs": []
    },
    {
      "cell_type": "markdown",
      "source": [
        "# Step 3: Build the neural network model\n",
        "The model will contain an Input and Output layer as well as a variable amount of Hidden Layers that is up to your decision. In this model, there are 128 nodes in the hidden layer an it's activation function is ReLU activation. The output layer contains 10 nodes to represent the digits 0-9."
      ],
      "metadata": {
        "id": "s_ip_pdmV0uI"
      }
    },
    {
      "cell_type": "code",
      "source": [
        "model = models.Sequential([\n",
        "    layers.Flatten(input_shape=(28, 28)),  # Flatten 28x28 images into 1D vectors\n",
        "    layers.Dense(128, activation='relu'),  # Hidden layer with 128 neurons and ReLU activation\n",
        "    layers.Dropout(0.2),                   # Dropout layer for regularization (20% dropout rate)\n",
        "    layers.Dense(10, activation='softmax') # Output layer with 10 neurons (one for each digit 0-9)\n",
        "])"
      ],
      "metadata": {
        "id": "BUqNlZjpV0AE"
      },
      "execution_count": 13,
      "outputs": []
    },
    {
      "cell_type": "markdown",
      "source": [
        "# Step 4: Compile the model\n",
        "This is where you finalize how to train your neural network. Pick an optimizer and a loss function to improve how well the cake turns out based on the recipe."
      ],
      "metadata": {
        "id": "deScfwMoWP4X"
      }
    },
    {
      "cell_type": "code",
      "source": [
        "model.compile(optimizer='adam',\n",
        "              loss='sparse_categorical_crossentropy',\n",
        "              metrics=['accuracy'])"
      ],
      "metadata": {
        "id": "J82RiyV0WUgo"
      },
      "execution_count": 14,
      "outputs": []
    },
    {
      "cell_type": "markdown",
      "source": [
        "# Step 5: Train the model\n",
        "Now you start baking the cake (training the model). You follow the recipe and adjust the ingredients as needed in each step based on feedback from the previous attempts (training epochs). Each attempts helps you estimate the correct cake (predicting the correct digit). The accuracy of your estimates increases with more attempts done."
      ],
      "metadata": {
        "id": "0fKkMxhgWXMl"
      }
    },
    {
      "cell_type": "code",
      "source": [
        "model.fit(X_train, y_train, epochs=5)"
      ],
      "metadata": {
        "colab": {
          "base_uri": "https://localhost:8080/"
        },
        "id": "w3Tum0noWaJf",
        "outputId": "445f5da1-e976-44d0-97fc-d4adfa584c87"
      },
      "execution_count": 15,
      "outputs": [
        {
          "output_type": "stream",
          "name": "stdout",
          "text": [
            "Epoch 1/5\n",
            "\u001b[1m1875/1875\u001b[0m \u001b[32m━━━━━━━━━━━━━━━━━━━━\u001b[0m\u001b[37m\u001b[0m \u001b[1m7s\u001b[0m 3ms/step - accuracy: 0.8600 - loss: 0.4845\n",
            "Epoch 2/5\n",
            "\u001b[1m1875/1875\u001b[0m \u001b[32m━━━━━━━━━━━━━━━━━━━━\u001b[0m\u001b[37m\u001b[0m \u001b[1m10s\u001b[0m 3ms/step - accuracy: 0.9556 - loss: 0.1495\n",
            "Epoch 3/5\n",
            "\u001b[1m1875/1875\u001b[0m \u001b[32m━━━━━━━━━━━━━━━━━━━━\u001b[0m\u001b[37m\u001b[0m \u001b[1m11s\u001b[0m 4ms/step - accuracy: 0.9686 - loss: 0.1043\n",
            "Epoch 4/5\n",
            "\u001b[1m1875/1875\u001b[0m \u001b[32m━━━━━━━━━━━━━━━━━━━━\u001b[0m\u001b[37m\u001b[0m \u001b[1m12s\u001b[0m 4ms/step - accuracy: 0.9728 - loss: 0.0873\n",
            "Epoch 5/5\n",
            "\u001b[1m1875/1875\u001b[0m \u001b[32m━━━━━━━━━━━━━━━━━━━━\u001b[0m\u001b[37m\u001b[0m \u001b[1m8s\u001b[0m 3ms/step - accuracy: 0.9768 - loss: 0.0727\n"
          ]
        },
        {
          "output_type": "execute_result",
          "data": {
            "text/plain": [
              "<keras.src.callbacks.history.History at 0x7b7194021650>"
            ]
          },
          "metadata": {},
          "execution_count": 15
        }
      ]
    },
    {
      "cell_type": "markdown",
      "source": [
        "# Step 6: Evaluate the model on the test data\n",
        "After baking the cake, you do a final taste test (evaluation) which helps in determining how well your cake turned out by comparing it to what you expected (the actual labels in the test data). By testing the model on a test data it has never seen before, you're testing if the model holds true even when used outside its training environment."
      ],
      "metadata": {
        "id": "4oUUjG-MWdav"
      }
    },
    {
      "cell_type": "code",
      "source": [
        "test_loss, test_acc = model.evaluate(X_test, y_test)\n",
        "print(f\"Test accuracy: {test_acc}\")"
      ],
      "metadata": {
        "colab": {
          "base_uri": "https://localhost:8080/"
        },
        "id": "xo2dS_iUWhLR",
        "outputId": "d7072dec-454c-4b83-f3d0-46c1c5f65b5f"
      },
      "execution_count": 16,
      "outputs": [
        {
          "output_type": "stream",
          "name": "stdout",
          "text": [
            "\u001b[1m313/313\u001b[0m \u001b[32m━━━━━━━━━━━━━━━━━━━━\u001b[0m\u001b[37m\u001b[0m \u001b[1m1s\u001b[0m 2ms/step - accuracy: 0.9739 - loss: 0.0799\n",
            "Test accuracy: 0.9778000116348267\n"
          ]
        }
      ]
    },
    {
      "cell_type": "markdown",
      "source": [
        "# Step 7: Make predictions on the test set\n",
        "The chef now predicts what type of cake it is on the assumption that the cake isn't a new unique cake. This is reflected here be randomly choosing an iage from the test set and testing it against the model."
      ],
      "metadata": {
        "id": "nrT7UT0IWjV3"
      }
    },
    {
      "cell_type": "code",
      "source": [
        "random_index = np.random.randint(0, len(X_test))\n",
        "predicted_label = model.predict(X_test[random_index:random_index+1])\n",
        "predicted_digit = predicted_label.argmax()"
      ],
      "metadata": {
        "colab": {
          "base_uri": "https://localhost:8080/"
        },
        "id": "ZhHSACYPWnN_",
        "outputId": "789230e8-b31c-4d8a-bd5f-2b3ba77dea4d"
      },
      "execution_count": 17,
      "outputs": [
        {
          "output_type": "stream",
          "name": "stdout",
          "text": [
            "\u001b[1m1/1\u001b[0m \u001b[32m━━━━━━━━━━━━━━━━━━━━\u001b[0m\u001b[37m\u001b[0m \u001b[1m0s\u001b[0m 47ms/step\n"
          ]
        }
      ]
    },
    {
      "cell_type": "markdown",
      "source": [
        "# Step 8: Display a sample prediction\n"
      ],
      "metadata": {
        "id": "qH-fsZNrWo9V"
      }
    },
    {
      "cell_type": "code",
      "source": [
        "plt.imshow(X_test[random_index], cmap=plt.cm.binary)\n",
        "plt.title(f\"Predicted Digit: {predicted_digit}\")\n",
        "plt.show()"
      ],
      "metadata": {
        "colab": {
          "base_uri": "https://localhost:8080/",
          "height": 452
        },
        "id": "vPHpEmBVWolM",
        "outputId": "a4909365-e733-46e6-850b-86ed34a99c2a"
      },
      "execution_count": 18,
      "outputs": [
        {
          "output_type": "display_data",
          "data": {
            "text/plain": [
              "<Figure size 640x480 with 1 Axes>"
            ],
            "image/png": "[encoded data removed]"
          },
          "metadata": {}
        }
      ]
    }
  ]
}